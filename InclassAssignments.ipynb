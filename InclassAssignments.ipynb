{
  "nbformat": 4,
  "nbformat_minor": 0,
  "metadata": {
    "colab": {
      "provenance": [],
      "authorship_tag": "ABX9TyOZrY91sdrnuOl0VIaEUIJE",
      "include_colab_link": true
    },
    "kernelspec": {
      "name": "python3",
      "display_name": "Python 3"
    },
    "language_info": {
      "name": "python"
    }
  },
  "cells": [
    {
      "cell_type": "markdown",
      "metadata": {
        "id": "view-in-github",
        "colab_type": "text"
      },
      "source": [
        "<a href=\"https://colab.research.google.com/github/ivyangst/BTE320/blob/main/InclassAssignments.ipynb\" target=\"_parent\"><img src=\"https://colab.research.google.com/assets/colab-badge.svg\" alt=\"Open In Colab\"/></a>"
      ]
    },
    {
      "cell_type": "code",
      "execution_count": null,
      "metadata": {
        "colab": {
          "base_uri": "https://localhost:8080/"
        },
        "id": "Rg1jF5JMbmW8",
        "outputId": "3dcda46a-eb5e-40b8-e399-06baa0a0a1cf"
      },
      "outputs": [
        {
          "output_type": "stream",
          "name": "stdout",
          "text": [
            "Enter sales($): 12000\n",
            "Sales: $12000.0\n",
            "Cogs: $4800.0\n",
            "Gross profit: $7200.0\n"
          ]
        }
      ],
      "source": [
        "sales= float(input(\"Enter sales($): \"))\n",
        "print(f\"Sales: ${sales}\")\n",
        "\n",
        "cog= 0.4\n",
        "cog_sold=sales*cog\n",
        "print(f\"Cogs: ${cog_sold}\")\n",
        "\n",
        "Gross_Profit=sales- (cog * sales)\n",
        "print(f'Gross profit: ${Gross_Profit}')"
      ]
    },
    {
      "cell_type": "code",
      "source": [
        "sales= float(input(\"Enter sales($): \"))\n",
        "print(f\"Sales: ${sales}\")\n",
        "\n",
        "#Cost of Goods Sold\n",
        "cog= 0.4\n",
        "cog_sold=sales*cog\n",
        "print(f\"Cogs: ${cog_sold}\")\n",
        "\n",
        "#Gross Profit\n",
        "Gross_Profit=sales- (cog * sales)\n",
        "print(f'Gross profit: ${Gross_Profit}')\n",
        "\n",
        "#Taxes\n",
        "\n",
        "tax_rate=float(input(\"Enter tax_rate(%): \"))\n",
        "taxes=Gross_Profit*(tax_rate/100)\n",
        "print(f'Taxes: ${taxes}')\n",
        "\n",
        "net_income= Gross_Profit-taxes\n",
        "print(f'Net Income: ${net_income}')"
      ],
      "metadata": {
        "colab": {
          "base_uri": "https://localhost:8080/"
        },
        "id": "sWNngRBHfzNs",
        "outputId": "d9da0f49-45a6-4d77-acc4-c3c23e885f0b"
      },
      "execution_count": null,
      "outputs": [
        {
          "output_type": "stream",
          "name": "stdout",
          "text": [
            "Enter sales($): 12000\n",
            "Sales: $12000.0\n",
            "Cogs: $4800.0\n",
            "Gross profit: $7200.0\n",
            "Enter tax_rate(%): 30\n",
            "Taxes: $2160.0\n",
            "Net Income: $5040.0\n"
          ]
        }
      ]
    },
    {
      "cell_type": "code",
      "source": [
        "#Demand, Reorder, Holding\n",
        "annual_demand= int(input(\"Enter Annual Demand(units/year) :\"))\n",
        "reorder_cost= float(input(\"Enter Reorder Cost($/unit) :\"))\n",
        "holding_cost= float(input(\"Enter Holding Cost($/unit/year):\"))\n",
        "#Process: Calculate EDQ\n",
        "EDQ= (2* annual_demand*reorder_cost/holding_cost)**0.5\n",
        "\n",
        "#Output: Display EDQ value\n",
        "print(f'Economic Order Quantity:{EDQ} Units')"
      ],
      "metadata": {
        "colab": {
          "base_uri": "https://localhost:8080/"
        },
        "id": "8uhYhSU9NuC7",
        "outputId": "394d9418-de1f-4735-fd2f-18488c4e27ff"
      },
      "execution_count": null,
      "outputs": [
        {
          "output_type": "stream",
          "name": "stdout",
          "text": [
            "Enter Annual Demand(units/year) :100\n",
            "Enter Reorder Cost($/unit) :1.5\n",
            "Enter Holding Cost($/unit/year):3\n",
            "Economic Order Quantity:10.0 Units\n"
          ]
        }
      ]
    },
    {
      "cell_type": "code",
      "source": [
        "grade= 90\n",
        "if grade >= 90:\n",
        "  print('A')\n",
        "elif grade > 85:\n",
        "  print('A-')\n",
        "else:\n",
        "  print('B')"
      ],
      "metadata": {
        "colab": {
          "base_uri": "https://localhost:8080/"
        },
        "id": "jxPn9jytO1EL",
        "outputId": "834b72c6-144b-44fb-e19e-baa3ae3acb36"
      },
      "execution_count": null,
      "outputs": [
        {
          "output_type": "stream",
          "name": "stdout",
          "text": [
            "A\n"
          ]
        }
      ]
    },
    {
      "cell_type": "code",
      "source": [
        "#Parking garage fee calculator\n",
        "print(\"# of hours\\tFee\")\n",
        "for hours in range(1,9):\n",
        "  fee=5+hours*2.5\n",
        "  if fee < 10:\n",
        "    fee=10.0\n",
        "    print( f\"{hours}\\t\\t{fee}\")\n",
        "  elif fee >20:\n",
        "    fee=20.0\n",
        "    print( f\"{hours}\\t\\t{fee}\")\n",
        "  else:\n",
        "    print( f\"{hours}\\t\\t{fee}\")"
      ],
      "metadata": {
        "colab": {
          "base_uri": "https://localhost:8080/"
        },
        "id": "B3oVUEcAbxFK",
        "outputId": "cd7aa9be-5265-4dd0-cd0e-73eee75dcf27"
      },
      "execution_count": null,
      "outputs": [
        {
          "output_type": "stream",
          "name": "stdout",
          "text": [
            "# of hours\tFee\n",
            "1\t\t10.0\n",
            "2\t\t10.0\n",
            "3\t\t12.5\n",
            "4\t\t15.0\n",
            "5\t\t17.5\n",
            "6\t\t20.0\n",
            "7\t\t20.0\n",
            "8\t\t20.0\n"
          ]
        }
      ]
    },
    {
      "cell_type": "code",
      "source": [
        "numbers = []\n",
        "num = int(input(\"Give a number: \"))\n",
        "\n",
        "while num !=0:\n",
        "  numbers.append(num)\n",
        "  num = int(input(\"Give another number: \"))\n",
        "\n",
        "numbers.sort(reverse=True)\n",
        "print(numbers)"
      ],
      "metadata": {
        "colab": {
          "base_uri": "https://localhost:8080/"
        },
        "id": "k6S4-UhOyNER",
        "outputId": "25cf9e5d-a6a6-46e5-e2a3-34a97a661083"
      },
      "execution_count": null,
      "outputs": [
        {
          "output_type": "stream",
          "name": "stdout",
          "text": [
            "Give a number: 10\n",
            "Give another number: 9\n",
            "Give another number: 5\n",
            "Give another number: 6\n",
            "Give another number: 7\n",
            "Give another number: 8\n",
            "Give another number: 0\n",
            "[10, 9, 8, 7, 6, 5]\n"
          ]
        }
      ]
    },
    {
      "cell_type": "code",
      "source": [
        "import random\n",
        "\n",
        "def play_game():\n",
        "    options = ['rock', 'paper', 'scissors']\n",
        "    computer = random.choice(options)\n",
        "    user = input(\"Enter your choice (rock, paper, scissors): \").lower().strip()\n",
        "\n",
        "    if user not in options:\n",
        "        print(\"Invalid choice! Please choose rock, paper, or scissors.\")\n",
        "        return\n",
        "\n",
        "    print(f\"You chose {user}, computer chose {computer}.\")\n",
        "\n",
        "    if user == computer:\n",
        "        print(\"It's a tie!\")\n",
        "    elif (user == 'rock' and computer == 'scissors') or \\\n",
        "         (user == 'paper' and computer == 'rock') or \\\n",
        "         (user == 'scissors' and computer == 'paper'):\n",
        "        print(\"You win!\")\n",
        "    else:\n",
        "        print(\"Computer wins!\")\n",
        "\n",
        "while True:\n",
        "    play = input(\"Do you want to play Rock-Paper-Scissors? (yes/no): \").lower().strip()\n",
        "    if play != 'yes':#or play='no'\n",
        "        print(\"Thanks for playing! Goodbye!\")\n",
        "        break\n",
        "    play_game()"
      ],
      "metadata": {
        "id": "QOKko4wr33vs",
        "colab": {
          "base_uri": "https://localhost:8080/"
        },
        "outputId": "3cd55be0-caea-40b8-cd0b-55938c513f85"
      },
      "execution_count": 4,
      "outputs": [
        {
          "output_type": "stream",
          "name": "stdout",
          "text": [
            "Do you want to play Rock-Paper-Scissors? (yes/no): yes\n",
            "Enter your choice (rock, paper, scissors): rock\n",
            "You chose rock, computer chose paper.\n",
            "Computer wins!\n",
            "Do you want to play Rock-Paper-Scissors? (yes/no): no\n",
            "Thanks for playing! Goodbye!\n"
          ]
        }
      ]
    },
    {
      "cell_type": "code",
      "source": [],
      "metadata": {
        "id": "uoh6s8RypXmZ"
      },
      "execution_count": null,
      "outputs": []
    }
  ]
}