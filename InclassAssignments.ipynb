{
  "nbformat": 4,
  "nbformat_minor": 0,
  "metadata": {
    "colab": {
      "provenance": [],
      "authorship_tag": "ABX9TyOOgMuE0LgM9oNg7Yd+Di6J",
      "include_colab_link": true
    },
    "kernelspec": {
      "name": "python3",
      "display_name": "Python 3"
    },
    "language_info": {
      "name": "python"
    }
  },
  "cells": [
    {
      "cell_type": "markdown",
      "metadata": {
        "id": "view-in-github",
        "colab_type": "text"
      },
      "source": [
        "<a href=\"https://colab.research.google.com/github/ivyangst/BTE320/blob/main/InclassAssignments.ipynb\" target=\"_parent\"><img src=\"https://colab.research.google.com/assets/colab-badge.svg\" alt=\"Open In Colab\"/></a>"
      ]
    },
    {
      "cell_type": "code",
      "execution_count": null,
      "metadata": {
        "colab": {
          "base_uri": "https://localhost:8080/"
        },
        "id": "Rg1jF5JMbmW8",
        "outputId": "3dcda46a-eb5e-40b8-e399-06baa0a0a1cf"
      },
      "outputs": [
        {
          "output_type": "stream",
          "name": "stdout",
          "text": [
            "Enter sales($): 12000\n",
            "Sales: $12000.0\n",
            "Cogs: $4800.0\n",
            "Gross profit: $7200.0\n"
          ]
        }
      ],
      "source": [
        "sales= float(input(\"Enter sales($): \"))\n",
        "print(f\"Sales: ${sales}\")\n",
        "\n",
        "cog= 0.4\n",
        "cog_sold=sales*cog\n",
        "print(f\"Cogs: ${cog_sold}\")\n",
        "\n",
        "Gross_Profit=sales- (cog * sales)\n",
        "print(f'Gross profit: ${Gross_Profit}')"
      ]
    },
    {
      "cell_type": "code",
      "source": [
        "sales= float(input(\"Enter sales($): \"))\n",
        "print(f\"Sales: ${sales}\")\n",
        "\n",
        "#Cost of Goods Sold\n",
        "cog= 0.4\n",
        "cog_sold=sales*cog\n",
        "print(f\"Cogs: ${cog_sold}\")\n",
        "\n",
        "#Gross Profit\n",
        "Gross_Profit=sales- (cog * sales)\n",
        "print(f'Gross profit: ${Gross_Profit}')\n",
        "\n",
        "#Taxes\n",
        "\n",
        "tax_rate=float(input(\"Enter tax_rate(%): \"))\n",
        "taxes=Gross_Profit*(tax_rate/100)\n",
        "print(f'Taxes: ${taxes}')\n",
        "\n",
        "net_income= Gross_Profit-taxes\n",
        "print(f'Net Income: ${net_income}')"
      ],
      "metadata": {
        "colab": {
          "base_uri": "https://localhost:8080/"
        },
        "id": "sWNngRBHfzNs",
        "outputId": "d9da0f49-45a6-4d77-acc4-c3c23e885f0b"
      },
      "execution_count": null,
      "outputs": [
        {
          "output_type": "stream",
          "name": "stdout",
          "text": [
            "Enter sales($): 12000\n",
            "Sales: $12000.0\n",
            "Cogs: $4800.0\n",
            "Gross profit: $7200.0\n",
            "Enter tax_rate(%): 30\n",
            "Taxes: $2160.0\n",
            "Net Income: $5040.0\n"
          ]
        }
      ]
    },
    {
      "cell_type": "code",
      "source": [
        "#Demand, Reorder, Holding\n",
        "annual_demand= int(input(\"Enter Annual Demand(units/year) :\"))\n",
        "reorder_cost= float(input(\"Enter Reorder Cost($/unit) :\"))\n",
        "holding_cost= float(input(\"Enter Holding Cost($/unit/year):\"))\n",
        "#Process: Calculate EDQ\n",
        "EDQ= (2* annual_demand*reorder_cost/holding_cost)**0.5\n",
        "\n",
        "#Output: Display EDQ value\n",
        "print(f'Economic Order Quantity:{EDQ} Units')"
      ],
      "metadata": {
        "colab": {
          "base_uri": "https://localhost:8080/"
        },
        "id": "8uhYhSU9NuC7",
        "outputId": "394d9418-de1f-4735-fd2f-18488c4e27ff"
      },
      "execution_count": 1,
      "outputs": [
        {
          "output_type": "stream",
          "name": "stdout",
          "text": [
            "Enter Annual Demand(units/year) :100\n",
            "Enter Reorder Cost($/unit) :1.5\n",
            "Enter Holding Cost($/unit/year):3\n",
            "Economic Order Quantity:10.0 Units\n"
          ]
        }
      ]
    },
    {
      "cell_type": "code",
      "source": [
        "grade= 90\n",
        "if grade >= 90:\n",
        "  print('A')\n",
        "elif grade > 85:\n",
        "  print('A-')\n",
        "else:\n",
        "  print('B')"
      ],
      "metadata": {
        "colab": {
          "base_uri": "https://localhost:8080/"
        },
        "id": "jxPn9jytO1EL",
        "outputId": "834b72c6-144b-44fb-e19e-baa3ae3acb36"
      },
      "execution_count": 2,
      "outputs": [
        {
          "output_type": "stream",
          "name": "stdout",
          "text": [
            "A\n"
          ]
        }
      ]
    }
  ]
}