{
  "nbformat": 4,
  "nbformat_minor": 0,
  "metadata": {
    "colab": {
      "provenance": [],
      "authorship_tag": "ABX9TyN+S7X2odNqfzqFGSD1rVS/",
      "include_colab_link": true
    },
    "kernelspec": {
      "name": "python3",
      "display_name": "Python 3"
    },
    "language_info": {
      "name": "python"
    }
  },
  "cells": [
    {
      "cell_type": "markdown",
      "metadata": {
        "id": "view-in-github",
        "colab_type": "text"
      },
      "source": [
        "<a href=\"https://colab.research.google.com/github/ivyangst/BTE320/blob/main/InclassAssignments.ipynb\" target=\"_parent\"><img src=\"https://colab.research.google.com/assets/colab-badge.svg\" alt=\"Open In Colab\"/></a>"
      ]
    },
    {
      "cell_type": "code",
      "execution_count": 9,
      "metadata": {
        "colab": {
          "base_uri": "https://localhost:8080/"
        },
        "id": "Rg1jF5JMbmW8",
        "outputId": "3dcda46a-eb5e-40b8-e399-06baa0a0a1cf"
      },
      "outputs": [
        {
          "output_type": "stream",
          "name": "stdout",
          "text": [
            "Enter sales($): 12000\n",
            "Sales: $12000.0\n",
            "Cogs: $4800.0\n",
            "Gross profit: $7200.0\n"
          ]
        }
      ],
      "source": [
        "sales= float(input(\"Enter sales($): \"))\n",
        "print(f\"Sales: ${sales}\")\n",
        "\n",
        "cog= 0.4\n",
        "cog_sold=sales*cog\n",
        "print(f\"Cogs: ${cog_sold}\")\n",
        "\n",
        "Gross_Profit=sales- (cog * sales)\n",
        "print(f'Gross profit: ${Gross_Profit}')"
      ]
    },
    {
      "cell_type": "code",
      "source": [
        "sales= float(input(\"Enter sales($): \"))\n",
        "print(f\"Sales: ${sales}\")\n",
        "\n",
        "#Cost of Goods Sold\n",
        "cog= 0.4\n",
        "cog_sold=sales*cog\n",
        "print(f\"Cogs: ${cog_sold}\")\n",
        "\n",
        "#Gross Profit\n",
        "Gross_Profit=sales- (cog * sales)\n",
        "print(f'Gross profit: ${Gross_Profit}')\n",
        "\n",
        "#Taxes\n",
        "\n",
        "tax_rate=float(input(\"Enter tax_rate(%): \"))\n",
        "taxes=Gross_Profit*(tax_rate/100)\n",
        "print(f'Taxes: ${taxes}')\n",
        "\n",
        "net_income= Gross_Profit-taxes\n",
        "print(f'Net Income: ${net_income}')"
      ],
      "metadata": {
        "colab": {
          "base_uri": "https://localhost:8080/"
        },
        "id": "sWNngRBHfzNs",
        "outputId": "d9da0f49-45a6-4d77-acc4-c3c23e885f0b"
      },
      "execution_count": 11,
      "outputs": [
        {
          "output_type": "stream",
          "name": "stdout",
          "text": [
            "Enter sales($): 12000\n",
            "Sales: $12000.0\n",
            "Cogs: $4800.0\n",
            "Gross profit: $7200.0\n",
            "Enter tax_rate(%): 30\n",
            "Taxes: $2160.0\n",
            "Net Income: $5040.0\n"
          ]
        }
      ]
    }
  ]
}